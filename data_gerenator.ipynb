{
 "cells": [
  {
   "cell_type": "code",
   "execution_count": 1,
   "metadata": {},
   "outputs": [],
   "source": [
    "import os \n",
    "import datetime\n",
    "import numpy as np\n",
    "import pandas as pd\n",
    "import matplotlib.pyplot as plt\n",
    "import generate_random_spectrum as grs \n",
    "\n",
    "from matplotlib_inline.backend_inline import set_matplotlib_formats\n",
    "set_matplotlib_formats('retina')"
   ]
  },
  {
   "cell_type": "code",
   "execution_count": 2,
   "metadata": {},
   "outputs": [
    {
     "name": "stdout",
     "output_type": "stream",
     "text": [
      " 20:00:19 - 05/28/2024\n"
     ]
    }
   ],
   "source": [
    "print(f' {datetime.datetime.today():%H:%M:%S - %m/%d/%Y}')"
   ]
  },
  {
   "cell_type": "markdown",
   "metadata": {},
   "source": [
    "### Шаблон таблиц"
   ]
  },
  {
   "cell_type": "code",
   "execution_count": 3,
   "metadata": {},
   "outputs": [],
   "source": [
    "df_peaks = pd.DataFrame(\n",
    "    columns=['id', 'height', 'area', 'fwhm', 'position', 'intensity', 'asym', 'gaussshare', 'noise_coef']\n",
    ")\n",
    "df_curves = pd.DataFrame(\n",
    "    columns=['id_peak', 'curve_type', *np.arange(1025)]\n",
    ")"
   ]
  },
  {
   "cell_type": "markdown",
   "metadata": {},
   "source": [
    "### Параметры кривых"
   ]
  },
  {
   "cell_type": "code",
   "execution_count": 4,
   "metadata": {},
   "outputs": [],
   "source": [
    "max_amplitudes = [0, 0.5, 1, 1.5, 2, 2.5, 3, 3.5, 4, 4.5, 5]\n",
    "noise_coefs = [0, 0.5, 1, 2, 4, 8]\n",
    "line_types = ('peak', 'noise', 'bl', 'fd', 'sd')\n",
    "current_id = 0\n",
    "current_row_curves = 0\n",
    "np.random.seed(4)\n",
    "\n",
    "log_file = open('logs.txt', 'a')"
   ]
  },
  {
   "cell_type": "markdown",
   "metadata": {},
   "source": [
    "###  Запуск расчета данных"
   ]
  },
  {
   "cell_type": "code",
   "execution_count": null,
   "metadata": {},
   "outputs": [],
   "source": [
    "for trial in range(1000):\n",
    "    for max_amplitude in max_amplitudes:\n",
    "        for noise_coef in noise_coefs:\n",
    "            current_multipeak, current_noise, current_baseline, first_der, second_der = grs.generate_the_spectrum(\n",
    "                number_of_peaks=1, function='asym_pV',\n",
    "                return_order=3, \n",
    "                max_amplitude=max_amplitude,\n",
    "                noise_coef=noise_coef, \n",
    "                baseline_multiplier=1e-5, intensity=0.1,\n",
    "                display=0\n",
    "            )\n",
    "            peak = (\n",
    "                current_id, current_multipeak.peaks[0].peak_height, \n",
    "                current_multipeak.peaks[0].peak_area, \n",
    "                *current_multipeak.params.loc[['fwhm', 'position', 'intensity', 'asym', 'gaussshare'], 0].values, \n",
    "                noise_coef\n",
    "            )\n",
    "            df_peaks.loc[current_id] = peak\n",
    "            \n",
    "            lines = (current_multipeak.peaks[0].curve, current_noise, current_baseline, first_der, second_der)\n",
    "            for name, line_data in zip(line_types, lines):\n",
    "                curve = (current_id, name, *line_data)\n",
    "                df_curves.loc[current_row_curves] = curve\n",
    "                current_row_curves += 1\n",
    "            \n",
    "            if current_id % 500 == 0:\n",
    "                print(f\"|{datetime.datetime.today():%H:%M:%S - %m/%d/%Y}|{trial:>6}|{max_amplitude:>6}|{noise_coef:>6}|\", \n",
    "                      file=log_file, flush=True\n",
    "                     )\n",
    "                df_peaks.to_csv('./data/df_peaks.csv')\n",
    "                df_curves.to_csv('./data/df_curves.csv')\n",
    "            current_id += 1\n",
    "            "
   ]
  },
  {
   "cell_type": "code",
   "execution_count": null,
   "metadata": {},
   "outputs": [],
   "source": []
  }
 ],
 "metadata": {
  "kernelspec": {
   "display_name": "Python 3 (ipykernel)",
   "language": "python",
   "name": "python3"
  },
  "language_info": {
   "codemirror_mode": {
    "name": "ipython",
    "version": 3
   },
   "file_extension": ".py",
   "mimetype": "text/x-python",
   "name": "python",
   "nbconvert_exporter": "python",
   "pygments_lexer": "ipython3",
   "version": "3.9.12"
  }
 },
 "nbformat": 4,
 "nbformat_minor": 2
}
